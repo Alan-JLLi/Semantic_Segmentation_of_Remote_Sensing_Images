{
 "cells": [
  {
   "cell_type": "code",
   "execution_count": 1,
   "id": "2e76fa59",
   "metadata": {},
   "outputs": [],
   "source": [
    "from osgeo import gdal\n",
    "import numpy as np\n",
    "import os\n",
    "import cv2"
   ]
  },
  {
   "cell_type": "code",
   "execution_count": 2,
   "id": "d7f59046",
   "metadata": {},
   "outputs": [],
   "source": [
    "#  Read tif data set\n",
    "def readTif(fileName, xoff = 0, yoff = 0, data_width = 0, data_height = 0):\n",
    "    dataset = gdal.Open(fileName)\n",
    "    if dataset == None:\n",
    "        print(fileName + \"文件无法打开\")\n",
    "    #  The number of columns of the grid matrix\n",
    "    width = dataset.RasterXSize \n",
    "    #  The number of rows of the grid matrix\n",
    "    height = dataset.RasterYSize \n",
    "    #  The number of channels\n",
    "    bands = dataset.RasterCount \n",
    "    #  get dataset\n",
    "    if(data_width == 0 and data_height == 0):\n",
    "        data_width = width\n",
    "        data_height = height\n",
    "    data = dataset.ReadAsArray(xoff, yoff, data_width, data_height)\n",
    "    #  Get affine matrix information\n",
    "    geotrans = dataset.GetGeoTransform()\n",
    "    #  Get projection information\n",
    "    proj = dataset.GetProjection()\n",
    "    return width, height, bands, data, geotrans, proj\n",
    "\n",
    "#  Save tif file function\n",
    "def writeTiff(im_data, im_geotrans, im_proj, path):\n",
    "    if 'int8' in im_data.dtype.name:\n",
    "        datatype = gdal.GDT_Byte\n",
    "    elif 'int16' in im_data.dtype.name:\n",
    "        datatype = gdal.GDT_UInt16\n",
    "    else:\n",
    "        datatype = gdal.GDT_Float32\n",
    "    if len(im_data.shape) == 3:\n",
    "        im_bands, im_height, im_width = im_data.shape\n",
    "    elif len(im_data.shape) == 2:\n",
    "        im_data = np.array([im_data])\n",
    "        im_bands, im_height, im_width = im_data.shape\n",
    "    #创建文件\n",
    "    driver = gdal.GetDriverByName(\"GTiff\")\n",
    "    dataset = driver.Create(path, int(im_width), int(im_height), int(im_bands), datatype)\n",
    "    if(dataset!= None):\n",
    "        dataset.SetGeoTransform(im_geotrans) #Write affine transformation parameters\n",
    "        dataset.SetProjection(im_proj) #Write projection\n",
    "    for i in range(im_bands):\n",
    "        dataset.GetRasterBand(i + 1).WriteArray(im_data[i])\n",
    "    del dataset"
   ]
  },
  {
   "cell_type": "markdown",
   "id": "5c1f8435",
   "metadata": {},
   "source": [
    "#### PATH parameter"
   ]
  },
  {
   "cell_type": "code",
   "execution_count": 3,
   "id": "6d08b9ca",
   "metadata": {},
   "outputs": [],
   "source": [
    "train_image_path = r\"comp\\train\\vi\"\n",
    "train_label_path = r\"comp\\train\\vl\"\n",
    "\n",
    "# save_image_path = r\"comp\\train\\image_boost\"\n",
    "# save_label_path = r\"comp\\train\\label_boost\""
   ]
  },
  {
   "cell_type": "markdown",
   "id": "4d701098",
   "metadata": {},
   "source": [
    "#### Image enhancement main"
   ]
  },
  {
   "cell_type": "code",
   "execution_count": 4,
   "id": "6da2d2cb",
   "metadata": {},
   "outputs": [],
   "source": [
    "imageList = os.listdir(train_image_path)\n",
    "labelList = os.listdir(train_label_path)\n",
    "tran_num = len(imageList) + 1\n",
    "for i in range(len(imageList)):\n",
    "    #  image\n",
    "    img_file = train_image_path + \"\\\\\" + imageList[i]\n",
    "    im_width, im_height, im_bands, im_data, im_geotrans, im_proj = readTif(img_file)\n",
    "    #  label\n",
    "    label_file = train_label_path + \"\\\\\" + labelList[i]\n",
    "    label = cv2.imread(label_file)\n",
    "\n",
    "    #  flip image horizontally\n",
    "    im_data_hor = np.flip(im_data, axis = 2)\n",
    "    hor_path = train_image_path + \"\\\\\" + str(tran_num) + imageList[i][-4:]\n",
    "    writeTiff(im_data_hor, im_geotrans, im_proj, hor_path)\n",
    "    #  flip label horizontally\n",
    "    Hor = cv2.flip(label, 1)\n",
    "    hor_path = train_label_path + \"\\\\\" + str(tran_num) + labelList[i][-4:]\n",
    "    cv2.imwrite(hor_path, Hor)\n",
    "    tran_num += 1\n",
    "    \n",
    "    #  flip image vertically\n",
    "    im_data_vec = np.flip(im_data, axis = 1)\n",
    "    vec_path = train_image_path + \"\\\\\" + str(tran_num) + imageList[i][-4:]\n",
    "    writeTiff(im_data_vec, im_geotrans, im_proj, vec_path)\n",
    "    #  flip label vertically\n",
    "    Vec = cv2.flip(label, 0)\n",
    "    vec_path = train_label_path + \"\\\\\" + str(tran_num) + labelList[i][-4:]\n",
    "    cv2.imwrite(vec_path, Vec)\n",
    "    tran_num += 1\n",
    "    \n",
    "    #  flip image diagonally\n",
    "    im_data_dia = np.flip(im_data_vec, axis = 2)\n",
    "    dia_path = train_image_path + \"\\\\\" + str(tran_num) + imageList[i][-4:]\n",
    "    writeTiff(im_data_dia, im_geotrans, im_proj, dia_path)\n",
    "    #  flip label diagonally\n",
    "    Dia = cv2.flip(label, -1)\n",
    "    dia_path = train_label_path + \"\\\\\" + str(tran_num) + labelList[i][-4:]\n",
    "    cv2.imwrite(dia_path, Dia)\n",
    "    tran_num += 1"
   ]
  }
 ],
 "metadata": {
  "kernelspec": {
   "display_name": "Python (myenv-gpu)",
   "language": "python",
   "name": "myenv-gpu"
  },
  "language_info": {
   "codemirror_mode": {
    "name": "ipython",
    "version": 3
   },
   "file_extension": ".py",
   "mimetype": "text/x-python",
   "name": "python",
   "nbconvert_exporter": "python",
   "pygments_lexer": "ipython3",
   "version": "3.8.5"
  }
 },
 "nbformat": 4,
 "nbformat_minor": 5
}
